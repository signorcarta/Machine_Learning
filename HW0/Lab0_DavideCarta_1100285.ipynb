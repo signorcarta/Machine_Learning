{
 "cells": [
  {
   "cell_type": "markdown",
   "metadata": {},
   "source": [
    "In this notebook we are going to generate data from a Gaussian distribution and then estimate a confidence interval (CI) for the data we have. Then we are then going to run the experiment 100 times and see how many times our confidence interval contains the true value of the parameter. Finally, we are going to see how the estimate of the mean and the CI change as we get more and more data."
   ]
  },
  {
   "cell_type": "code",
   "execution_count": 2,
   "metadata": {},
   "outputs": [
    {
     "name": "stdout",
     "output_type": "stream",
     "text": [
      "1.15.1\n"
     ]
    }
   ],
   "source": [
    "#import all packages we need\n",
    "\n",
    "import math\n",
    "\n",
    "import numpy as np\n",
    "import sklearn as skl\n",
    "import scipy as sp\n",
    "from scipy import stats\n",
    "\n",
    "#check the version of numpy\n",
    "\n",
    "print(np.__version__)\n",
    "\n",
    "#initialize random seed of numpy random number generator with your ID number(\"matricola\")\n",
    "ID_number = 1100285\n",
    "np.random.seed(ID_number)"
   ]
  },
  {
   "cell_type": "markdown",
   "metadata": {},
   "source": [
    "# Generate random data points from a Gaussian with given mean and variance"
   ]
  },
  {
   "cell_type": "markdown",
   "metadata": {},
   "source": [
    "**TO DO**: complete the functions below. The first one returns a value taken at random from a normal distribution with the given mean and variance, while the second one uses the first one and returns a numpy array of $num\\_samples$ values taken at random from a normal distribution with the given mean and variance. For the first function, you can use the $random$ package in numpy."
   ]
  },
  {
   "cell_type": "code",
   "execution_count": 3,
   "metadata": {},
   "outputs": [],
   "source": [
    "def generate_point(mean, variance):\n",
    "    #TO DO: ADD CODE\n",
    "    return np.random.normal(mean, math.sqrt(variance))\n",
    "def generate_dataset(mean, variance,num_samples):\n",
    "    #TO DO: ADD CODE\n",
    "    dataset = list()\n",
    "    for i in range (num_samples):\n",
    "        dataset.append(generate_point(mean, variance))\n",
    "    return np.array(dataset)"
   ]
  },
  {
   "cell_type": "markdown",
   "metadata": {},
   "source": [
    "# Obtain maximum likelihood estimate (MLE) of the mean from the data"
   ]
  },
  {
   "cell_type": "markdown",
   "metadata": {},
   "source": [
    "**TO DO**: complete the function below so that given a dataset (as a numpy array) returns the MLE for the dataset"
   ]
  },
  {
   "cell_type": "code",
   "execution_count": 4,
   "metadata": {},
   "outputs": [],
   "source": [
    "def MLE_mean(dataset):\n",
    "    #TO DO: ADD CODE\n",
    "    sum_vals = 0.\n",
    "    for elem in dataset:\n",
    "        sum_vals+= elem\n",
    "    return sum_vals/len(dataset)"
   ]
  },
  {
   "cell_type": "markdown",
   "metadata": {},
   "source": [
    "# Get Confidence Interval"
   ]
  },
  {
   "cell_type": "markdown",
   "metadata": {},
   "source": [
    "**TO DO**: complete the function below so that given the MLE estimate $mean\\_hat$ of the mean, the variance $variance$ used to generate the data, the number $num\\_samples$ of samples in the dataset, and a value $\\alpha$, returns the lower bound and the upper bound of CI of confidence $1-\\alpha$"
   ]
  },
  {
   "cell_type": "code",
   "execution_count": 5,
   "metadata": {},
   "outputs": [],
   "source": [
    "def CI_Normal(mean_hat, variance, num_samples, alpha):\n",
    "    #TO DO: ADD CODE\n",
    "    z = sp.stats.norm.ppf(1.-alpha/2 ,0, 1)\n",
    "    lower_bound = mean_hat - z*(math.sqrt(variance)/math.sqrt(num_samples))\n",
    "    upper_bound = mean_hat + z*(math.sqrt(variance)/math.sqrt(num_samples))\n",
    "    return lower_bound, upper_bound"
   ]
  },
  {
   "cell_type": "markdown",
   "metadata": {},
   "source": [
    "Now we put everything together: generate a dataset with the given parameters, estimate the MLE for the mean and the CI, and print the lower bound and the upper bound of the CI."
   ]
  },
  {
   "cell_type": "code",
   "execution_count": 6,
   "metadata": {},
   "outputs": [
    {
     "name": "stdout",
     "output_type": "stream",
     "text": [
      "1.2217063124833443\n",
      "1.7760678422232155\n"
     ]
    }
   ],
   "source": [
    "#parameters for experiment\n",
    "m = 100\n",
    "true_mean = 1.4\n",
    "true_variance = 2.0\n",
    "significance_level = 0.05\n",
    "\n",
    "data = generate_dataset(true_mean, true_variance, m)\n",
    "estimated_mean = MLE_mean(data)\n",
    "lb, ub = CI_Normal(estimated_mean, true_variance, m, significance_level)\n",
    "print(lb)\n",
    "print(ub)"
   ]
  },
  {
   "cell_type": "markdown",
   "metadata": {},
   "source": [
    "**TO DO**: repeat the experiment above 1000 times and print the fraction of times that the CI does not contain the true value of the mean."
   ]
  },
  {
   "cell_type": "code",
   "execution_count": 7,
   "metadata": {},
   "outputs": [
    {
     "name": "stdout",
     "output_type": "stream",
     "text": [
      "Fraction of times we did not get a CI containing the correct value: 0.049\n"
     ]
    }
   ],
   "source": [
    "#now let's repeat the experiment N times and see how many times the confidence interval \n",
    "#we estimate contains the true value of the parameter\n",
    "\n",
    "#parameters for experiment\n",
    "m = 100\n",
    "true_mean = 1.4\n",
    "true_variance = 2.0\n",
    "significance_level = 0.05\n",
    "num_rep = 1000\n",
    "\n",
    "#TO DO: ADD CODE\n",
    "fraction_failures=0.\n",
    "for i in range(num_rep):\n",
    "    data = generate_dataset(true_mean, true_variance, m)\n",
    "    estimated_mean = MLE_mean(data)\n",
    "    lb, ub = CI_Normal(estimated_mean, true_variance, m, significance_level)\n",
    "    if(true_mean< lb or true_mean > ub):\n",
    "        fraction_failures+=1\n",
    "fraction_failures = fraction_failures / num_rep \n",
    "print(\"Fraction of times we did not get a CI containing the correct value: \"+str(fraction_failures))"
   ]
  },
  {
   "cell_type": "markdown",
   "metadata": {},
   "source": [
    "**TO DO**: what is the relation between $\\alpha$ and the fraction of times the CI contains the true value of the mean?"
   ]
  },
  {
   "cell_type": "markdown",
   "metadata": {},
   "source": [
    "# Compute CI for increasing number of samples\n",
    "Now we compute a CI after adding 1 sample at the time to a dataset and plot the corresponding values using matplotlib. To generate 1 sample just use the function $generate\\_dataset$ for 1 sample.\n",
    "\n",
    "**TO DO**: complete the code below so that the following cell plots the true value of the mean, the MLE of the mean after the generation of each sample, and the CI after the generation of each sample"
   ]
  },
  {
   "cell_type": "code",
   "execution_count": 9,
   "metadata": {},
   "outputs": [],
   "source": [
    "#parameters for experiment\n",
    "true_mean = 1.4\n",
    "true_variance = 2.0\n",
    "significance_level = 0.05\n",
    "max_num_samples = 1000\n",
    "\n",
    "#list used to keep the points generated up to the current iteration:\n",
    "#data_list[i] = (i+1)-th sample\n",
    "data_list = list()\n",
    "#list of lower bounds of the CI: lbs[i]=lower bound of CI after i+1 samples have\n",
    "#been generated\n",
    "lbs = np.zeros(max_num_samples)\n",
    "#list of upper bounds of the CI: ubs[i]=upper bound of CI after i+1 samples have\n",
    "#been generated\n",
    "ubs = np.zeros(max_num_samples)\n",
    "#list of MLE for the mean: estimated_means[i]=MLE of the mean after i+1 samples have\n",
    "#been generated\n",
    "estimated_means = np.zeros(max_num_samples)\n",
    "#list of number of samples generated: num_samples[i]= number of samples after i+1 \n",
    "#samples have been generated\n",
    "num_samples = np.zeros(max_num_samples)\n",
    "\n",
    "for m in range(max_num_samples):\n",
    "    #TO DO: add code\n",
    "    new_data =  generate_dataset(true_mean, true_variance, 1)\n",
    "    data_list.append(new_data[0])\n",
    "    curr_data = np.array(data_list)\n",
    "        \n",
    "    #TO DO: add code\n",
    "    estimated_means[m] = MLE_mean(curr_data)\n",
    "    lbs[m], ubs[m] = CI_Normal(estimated_mean, true_variance, m+1, significance_level)\n",
    "    num_samples[m] = m+1"
   ]
  },
  {
   "cell_type": "markdown",
   "metadata": {},
   "source": [
    "The following plots what is required. **Note**: it assumes that $num\\_samples$, $estimated\\_means$, $ubs$, $lbs$ are defined as above."
   ]
  },
  {
   "cell_type": "code",
   "execution_count": 10,
   "metadata": {},
   "outputs": [
    {
     "data": {
      "image/png": "[encoded data removed]",
      "text/plain": [
       "<Figure size 432x288 with 1 Axes>"
      ]
     },
     "metadata": {
      "needs_background": "light"
     },
     "output_type": "display_data"
    }
   ],
   "source": [
    "#now plot with matplotlib\n",
    "\n",
    "#the following is to have matplotlib graphs included in your notebook, next to the code\n",
    "%matplotlib inline\n",
    "\n",
    "#Matplotlib(https://matplotlib.org):  2D plotting library\n",
    "import matplotlib.pyplot as plt\n",
    "\n",
    "#now plot the estimate MLE as a function of m\n",
    "plt.plot(num_samples, estimated_means,'xb')\n",
    "#to obtain control on the axis of the figure, so to customize laberls, limits, etc.\n",
    "ax1 = plt.gca()\n",
    "#set limit on x-axis\n",
    "ax1.set_xlim(0, max_num_samples)\n",
    "#set limit on y-axis\n",
    "ax1.set_ylim(-0.1, 3)\n",
    "#title of the plot\n",
    "plt.title(\"CI's for varying values of number m of samples\")\n",
    "#label of x axis\n",
    "plt.xlabel(\"m\")\n",
    "#label of y axis\n",
    "plt.ylabel('estimated mean')\n",
    "#now plot the correct value of p, just for reference\n",
    "lines = plt.plot([0.0, max_num_samples],[true_mean, true_mean],'r:')\n",
    "#change the width of the plotted line\n",
    "plt.setp(lines, linewidth=2)\n",
    "#plot the values from CI's upper bound\n",
    "lines = plt.plot(num_samples,ubs,'k:')\n",
    "#change the width of the plotted line\n",
    "plt.setp(lines, linewidth=2)\n",
    "#plot the values from CI's lower bound\n",
    "lines = plt.plot(num_samples,lbs,'k:')\n",
    "#change the width of the plotted line\n",
    "plt.setp(lines, linewidth=2)\n",
    "#add the personalized legend\n",
    "plt.legend(['estimated mean','true mean','CI intervals'])\n",
    "#change the size of the figure - if needed\n",
    "#plt.rcParams['figure.figsize'] = (10,10)\n",
    "#show the figure\n",
    "plt.show()"
   ]
  },
  {
   "cell_type": "code",
   "execution_count": null,
   "metadata": {},
   "outputs": [],
   "source": []
  }
 ],
 "metadata": {
  "kernelspec": {
   "display_name": "Python 3",
   "language": "python",
   "name": "python3"
  },
  "language_info": {
   "codemirror_mode": {
    "name": "ipython",
    "version": 3
   },
   "file_extension": ".py",
   "mimetype": "text/x-python",
   "name": "python",
   "nbconvert_exporter": "python",
   "pygments_lexer": "ipython3",
   "version": "3.7.0"
  }
 },
 "nbformat": 4,
 "nbformat_minor": 2
}
