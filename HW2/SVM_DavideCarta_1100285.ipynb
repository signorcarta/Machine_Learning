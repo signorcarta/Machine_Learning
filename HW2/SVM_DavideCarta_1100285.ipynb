{
 "cells": [
  {
   "cell_type": "markdown",
   "metadata": {},
   "source": [
    "# SVM for classification, without and with kernels\n",
    "\n",
    "In this notebook we are going to explore the use of Support Vector Machines (SVMs) for image classification. We are going to use the famous MNIST dataset, that is a dataset of handwritten digits. We get the data from mldata.org, that is a public repository for machine learning data.\n",
    "\n",
    "The dataset consists of 70,000 images of handwritten digits (i.e., 0, 1, ... 9). Each image is 28 pixels by 28 pixels and we can think of it as a vector of 28x28 = 784 numbers. Each number is an integer between 0 and 255. For each image we have the corresponding label (i.e., 0, 1, ..., 9)."
   ]
  },
  {
   "cell_type": "code",
   "execution_count": 1,
   "metadata": {},
   "outputs": [],
   "source": [
    "#load the required packages\n",
    "\n",
    "%matplotlib inline  \n",
    "\n",
    "import numpy as np\n",
    "import matplotlib.pyplot as plt\n",
    "import pandas as pd\n",
    "\n",
    "import sklearn\n",
    "from sklearn.datasets import fetch_mldata"
   ]
  },
  {
   "cell_type": "code",
   "execution_count": 2,
   "metadata": {},
   "outputs": [],
   "source": [
    "#fix your ID (\"numero di matricola\") and the seed for random generator\n",
    "ID = 1100285 \n",
    "np.random.seed(ID)"
   ]
  },
  {
   "cell_type": "markdown",
   "metadata": {},
   "source": [
    "Now let's load the dataset. 'data' contains the input, 'target' contains the label. We normalize the data by dividing each value by 255 so that each value is in [0,1]"
   ]
  },
  {
   "cell_type": "code",
   "execution_count": 3,
   "metadata": {},
   "outputs": [],
   "source": [
    "#load the MNIST dataset and let's normalize the features so that each value is in [0,1]\n",
    "mnist = fetch_mldata(\"MNIST original\")\n",
    "# rescale the data\n",
    "X, y = mnist.data / 255., mnist.target"
   ]
  },
  {
   "cell_type": "markdown",
   "metadata": {},
   "source": [
    "Now split into training and test. We keep 500 samples in the training set. Make sure that each label is present at least 10 times\n",
    "in training. If it is not, then keep adding permutations to the initial data until this \n",
    "happens.\n",
    "\n",
    "**IMPORTANT**: if you cannot run the SVM with 500 samples or 1000 samples (see below), try with a smaller number of samples (e.g. 200 here and 400 below)."
   ]
  },
  {
   "cell_type": "code",
   "execution_count": 4,
   "metadata": {},
   "outputs": [
    {
     "name": "stdout",
     "output_type": "stream",
     "text": [
      "Labels and frequencies in training dataset: \n"
     ]
    },
    {
     "data": {
      "text/plain": [
       "(array([0., 1., 2., 3., 4., 5., 6., 7., 8., 9.]),\n",
       " array([56, 58, 42, 48, 50, 45, 49, 54, 51, 47], dtype=int64))"
      ]
     },
     "execution_count": 4,
     "metadata": {},
     "output_type": "execute_result"
    }
   ],
   "source": [
    "#random permute the data and split into training and test taking the first 500\n",
    "#data samples as training and the rests as test\n",
    "permutation = np.random.permutation(X.shape[0])\n",
    "\n",
    "X = X[permutation]\n",
    "y = y[permutation]\n",
    "\n",
    "m_training = 500\n",
    "\n",
    "X_train, X_test = X[:m_training], X[m_training:]\n",
    "y_train, y_test = y[:m_training], y[m_training:]\n",
    "\n",
    "print(\"Labels and frequencies in training dataset: \")\n",
    "np.unique(y_train, return_counts = True)"
   ]
  },
  {
   "cell_type": "markdown",
   "metadata": {},
   "source": [
    "We now provide a function to print an image in a dataset, the corresponding true label, and the index of the image in the dataset."
   ]
  },
  {
   "cell_type": "code",
   "execution_count": 5,
   "metadata": {},
   "outputs": [],
   "source": [
    "#function for plotting a digit and printing the corresponding labe\n",
    "def plot_digit(X_matrix, labels, index):\n",
    "    print(\"INPUT:\")\n",
    "    plt.imshow(\n",
    "        X_matrix[index].reshape(28,28),\n",
    "        cmap          = plt.cm.gray_r,\n",
    "        interpolation = \"nearest\"\n",
    "    )\n",
    "    plt.show()\n",
    "    print(\"LABEL: %i\"%labels[index])\n",
    "    return"
   ]
  },
  {
   "cell_type": "markdown",
   "metadata": {},
   "source": [
    "As an example, let's print the 100-th image in X_train and the 40,000-th image in X_test and their true labels."
   ]
  },
  {
   "cell_type": "code",
   "execution_count": 6,
   "metadata": {},
   "outputs": [
    {
     "name": "stdout",
     "output_type": "stream",
     "text": [
      "INPUT:\n"
     ]
    },
    {
     "data": {
      "image/png": "[encoded data removed]",
      "text/plain": [
       "<Figure size 432x288 with 1 Axes>"
      ]
     },
     "metadata": {
      "needs_background": "light"
     },
     "output_type": "display_data"
    },
    {
     "name": "stdout",
     "output_type": "stream",
     "text": [
      "LABEL: 8\n",
      "INPUT:\n"
     ]
    },
    {
     "data": {
      "image/png": "[encoded data removed]",
      "text/plain": [
       "<Figure size 432x288 with 1 Axes>"
      ]
     },
     "metadata": {
      "needs_background": "light"
     },
     "output_type": "display_data"
    },
    {
     "name": "stdout",
     "output_type": "stream",
     "text": [
      "LABEL: 3\n"
     ]
    }
   ],
   "source": [
    "# let's try the plotting function\n",
    "plot_digit(X_train,y_train,100)\n",
    "plot_digit(X_test,y_test,40000)"
   ]
  },
  {
   "cell_type": "markdown",
   "metadata": {},
   "source": [
    "# TO DO 1\n",
    "Run SVM with cross validation to pick a kernel and values of parameters. Use a 5-fold cross-validation to pick the best kernel and choice of parameters. We provide some potential choice for parameters, but change the grid if needed (e.g., it takes too long). For the SVM for classification use SVC from sklearn.svm; for the grid search we suggest you use GridSearchCV from sklearn.model_selection, but you can implement your own cross-validation for model selection if you prefer.\n",
    "\n",
    "Print the best parameters used as well as the score obtained by the best model"
   ]
  },
  {
   "cell_type": "code",
   "execution_count": 7,
   "metadata": {},
   "outputs": [
    {
     "name": "stdout",
     "output_type": "stream",
     "text": [
      "RESULTS FOR LINEAR KERNEL\n",
      "\n",
      "Best parameters set found: {'C': 1}\n",
      "Score with best parameters: 0.888\n",
      "\n",
      "All scores on the grid:\n",
      "\n",
      "   mean_fit_time  std_fit_time  mean_score_time  std_score_time param_C  \\\n",
      "0       0.137493      0.011672         0.028122    6.249720e-03       1   \n",
      "1       0.121877      0.006250         0.028126    6.259422e-03      10   \n",
      "2       0.118742      0.007649         0.031251    6.843901e-07     100   \n",
      "\n",
      "       params  split0_test_score  split1_test_score  split2_test_score  \\\n",
      "0    {'C': 1}           0.903846           0.911765               0.94   \n",
      "1   {'C': 10}           0.903846           0.911765               0.94   \n",
      "2  {'C': 100}           0.903846           0.911765               0.94   \n",
      "\n",
      "   split3_test_score       ...         mean_test_score  std_test_score  \\\n",
      "0           0.826531       ...                   0.888        0.040849   \n",
      "1           0.826531       ...                   0.888        0.040849   \n",
      "2           0.826531       ...                   0.888        0.040849   \n",
      "\n",
      "   rank_test_score  split0_train_score  split1_train_score  \\\n",
      "0                1                 1.0                 1.0   \n",
      "1                1                 1.0                 1.0   \n",
      "2                1                 1.0                 1.0   \n",
      "\n",
      "   split2_train_score  split3_train_score  split4_train_score  \\\n",
      "0                 1.0                 1.0                 1.0   \n",
      "1                 1.0                 1.0                 1.0   \n",
      "2                 1.0                 1.0                 1.0   \n",
      "\n",
      "   mean_train_score  std_train_score  \n",
      "0               1.0              0.0  \n",
      "1               1.0              0.0  \n",
      "2               1.0              0.0  \n",
      "\n",
      "[3 rows x 21 columns]\n",
      "\n",
      "RESULTS FOR POLY DEGREE=2 KERNEL\n",
      "\n",
      "Best parameters set found: {'C': 10, 'gamma': 0.01}\n",
      "Score with best parameters: 0.86\n",
      "\n",
      "All scores on the grid:\n",
      "\n",
      "   mean_fit_time  std_fit_time  mean_score_time  std_score_time param_C  \\\n",
      "0       0.168752      0.006241         0.028128        0.006254       1   \n",
      "1       0.159376      0.006251         0.031263        0.000010       1   \n",
      "2       0.162504      0.007649         0.031251        0.000012       1   \n",
      "3       0.159377      0.006240         0.024997        0.007652      10   \n",
      "4       0.159382      0.006256         0.024999        0.007657      10   \n",
      "5       0.159376      0.006240         0.028118        0.006256      10   \n",
      "6       0.162497      0.007657         0.028126        0.006250     100   \n",
      "7       0.165626      0.007655         0.031247        0.000015     100   \n",
      "8       0.171873      0.013980         0.031262        0.013975     100   \n",
      "\n",
      "  param_gamma                     params  split0_test_score  \\\n",
      "0        0.01    {'C': 1, 'gamma': 0.01}           0.836538   \n",
      "1         0.1     {'C': 1, 'gamma': 0.1}           0.903846   \n",
      "2           1     {'C': 1, 'gamma': 1.0}           0.903846   \n",
      "3        0.01   {'C': 10, 'gamma': 0.01}           0.903846   \n",
      "4         0.1    {'C': 10, 'gamma': 0.1}           0.903846   \n",
      "5           1    {'C': 10, 'gamma': 1.0}           0.903846   \n",
      "6        0.01  {'C': 100, 'gamma': 0.01}           0.903846   \n",
      "7         0.1   {'C': 100, 'gamma': 0.1}           0.903846   \n",
      "8           1   {'C': 100, 'gamma': 1.0}           0.903846   \n",
      "\n",
      "   split1_test_score  split2_test_score       ...         mean_test_score  \\\n",
      "0           0.872549               0.93       ...                   0.852   \n",
      "1           0.852941               0.92       ...                   0.858   \n",
      "2           0.852941               0.92       ...                   0.858   \n",
      "3           0.852941               0.92       ...                   0.860   \n",
      "4           0.852941               0.92       ...                   0.858   \n",
      "5           0.852941               0.92       ...                   0.858   \n",
      "6           0.852941               0.92       ...                   0.858   \n",
      "7           0.852941               0.92       ...                   0.858   \n",
      "8           0.852941               0.92       ...                   0.858   \n",
      "\n",
      "   std_test_score  rank_test_score  split0_train_score  split1_train_score  \\\n",
      "0        0.047757                9            0.954545            0.952261   \n",
      "1        0.048622                2            1.000000            1.000000   \n",
      "2        0.048622                2            1.000000            1.000000   \n",
      "3        0.046893                1            1.000000            1.000000   \n",
      "4        0.048622                2            1.000000            1.000000   \n",
      "5        0.048622                2            1.000000            1.000000   \n",
      "6        0.048622                2            1.000000            1.000000   \n",
      "7        0.048622                2            1.000000            1.000000   \n",
      "8        0.048622                2            1.000000            1.000000   \n",
      "\n",
      "   split2_train_score  split3_train_score  split4_train_score  \\\n",
      "0              0.9450            0.950249            0.950495   \n",
      "1              1.0000            1.000000            1.000000   \n",
      "2              1.0000            1.000000            1.000000   \n",
      "3              0.9975            0.997512            1.000000   \n",
      "4              1.0000            1.000000            1.000000   \n",
      "5              1.0000            1.000000            1.000000   \n",
      "6              1.0000            1.000000            1.000000   \n",
      "7              1.0000            1.000000            1.000000   \n",
      "8              1.0000            1.000000            1.000000   \n",
      "\n",
      "   mean_train_score  std_train_score  \n",
      "0          0.950510         0.003155  \n",
      "1          1.000000         0.000000  \n",
      "2          1.000000         0.000000  \n",
      "3          0.999002         0.001222  \n",
      "4          1.000000         0.000000  \n",
      "5          1.000000         0.000000  \n",
      "6          1.000000         0.000000  \n",
      "7          1.000000         0.000000  \n",
      "8          1.000000         0.000000  \n",
      "\n",
      "[9 rows x 22 columns]\n",
      "\n",
      "RESULTS FOR rbf KERNEL\n",
      "\n",
      "Best parameters set found: {'C': 10, 'gamma': 0.01}\n",
      "Score with best parameters: 0.902\n",
      "\n",
      "All scores on the grid:\n",
      "\n",
      "   mean_fit_time  std_fit_time  mean_score_time  std_score_time param_C  \\\n",
      "0       0.196869      0.018745         0.034377        0.006240       1   \n",
      "1       0.315624      0.011700         0.043755        0.006252       1   \n",
      "2       0.306248      0.007660         0.037506        0.007660       1   \n",
      "3       0.209370      0.007653         0.034380        0.006249      10   \n",
      "4       0.287503      0.007647         0.034381        0.006248      10   \n",
      "5       0.318752      0.007654         0.040623        0.012506      10   \n",
      "6       0.218741      0.013985         0.034381        0.006248     100   \n",
      "7       0.303123      0.012492         0.034373        0.006260     100   \n",
      "8       0.315628      0.006240         0.040618        0.007657     100   \n",
      "\n",
      "  param_gamma                     params  split0_test_score  \\\n",
      "0        0.01    {'C': 1, 'gamma': 0.01}           0.855769   \n",
      "1         0.1     {'C': 1, 'gamma': 0.1}           0.490385   \n",
      "2           1     {'C': 1, 'gamma': 1.0}           0.115385   \n",
      "3        0.01   {'C': 10, 'gamma': 0.01}           0.932692   \n",
      "4         0.1    {'C': 10, 'gamma': 0.1}           0.538462   \n",
      "5           1    {'C': 10, 'gamma': 1.0}           0.115385   \n",
      "6        0.01  {'C': 100, 'gamma': 0.01}           0.932692   \n",
      "7         0.1   {'C': 100, 'gamma': 0.1}           0.538462   \n",
      "8           1   {'C': 100, 'gamma': 1.0}           0.115385   \n",
      "\n",
      "   split1_test_score  split2_test_score       ...         mean_test_score  \\\n",
      "0           0.901961               0.95       ...                   0.880   \n",
      "1           0.539216               0.55       ...                   0.482   \n",
      "2           0.117647               0.12       ...                   0.116   \n",
      "3           0.901961               0.96       ...                   0.902   \n",
      "4           0.558824               0.61       ...                   0.522   \n",
      "5           0.117647               0.12       ...                   0.116   \n",
      "6           0.901961               0.96       ...                   0.902   \n",
      "7           0.558824               0.61       ...                   0.522   \n",
      "8           0.117647               0.12       ...                   0.116   \n",
      "\n",
      "   std_test_score  rank_test_score  split0_train_score  split1_train_score  \\\n",
      "0        0.042503                3            0.974747            0.979899   \n",
      "1        0.059121                6            1.000000            1.000000   \n",
      "2        0.002642                7            1.000000            1.000000   \n",
      "3        0.041614                1            1.000000            1.000000   \n",
      "4        0.064320                4            1.000000            1.000000   \n",
      "5        0.002642                7            1.000000            1.000000   \n",
      "6        0.041614                1            1.000000            1.000000   \n",
      "7        0.064320                4            1.000000            1.000000   \n",
      "8        0.002642                7            1.000000            1.000000   \n",
      "\n",
      "   split2_train_score  split3_train_score  split4_train_score  \\\n",
      "0               0.975            0.982587            0.985149   \n",
      "1               1.000            1.000000            1.000000   \n",
      "2               1.000            1.000000            1.000000   \n",
      "3               1.000            1.000000            1.000000   \n",
      "4               1.000            1.000000            1.000000   \n",
      "5               1.000            1.000000            1.000000   \n",
      "6               1.000            1.000000            1.000000   \n",
      "7               1.000            1.000000            1.000000   \n",
      "8               1.000            1.000000            1.000000   \n",
      "\n",
      "   mean_train_score  std_train_score  \n",
      "0          0.979477         0.004109  \n",
      "1          1.000000         0.000000  \n",
      "2          1.000000         0.000000  \n",
      "3          1.000000         0.000000  \n",
      "4          1.000000         0.000000  \n",
      "5          1.000000         0.000000  \n",
      "6          1.000000         0.000000  \n",
      "7          1.000000         0.000000  \n",
      "8          1.000000         0.000000  \n",
      "\n",
      "[9 rows x 22 columns]\n"
     ]
    }
   ],
   "source": [
    "#import SVC\n",
    "from sklearn.svm import SVC\n",
    "#import for Cross-Validation\n",
    "from sklearn.model_selection import GridSearchCV, RandomizedSearchCV\n",
    "\n",
    "# parameters for linear SVM\n",
    "parameters = {'C': [1, 10, 100]}\n",
    "nfolds = 5\n",
    "\n",
    "#run linear SVM\n",
    "linear_SVM = SVC(kernel='linear')\n",
    "\n",
    "#find best model uusing 5-fold CV \n",
    "#and train it using all the training data\n",
    "grid_search = GridSearchCV(linear_SVM, parameters, cv=nfolds, return_train_score=True)\n",
    "grid_search.fit(X_train, y_train) \n",
    "\n",
    "print ('RESULTS FOR LINEAR KERNEL\\n')\n",
    "\n",
    "print(\"Best parameters set found: {}\".format(grid_search.best_params_)) \n",
    "\n",
    "print(\"Score with best parameters: {}\".format(grid_search.best_score_)) \n",
    "\n",
    "print(\"\\nAll scores on the grid:\\n\")\n",
    "print(pd.DataFrame(grid_search.cv_results_)) \n",
    "\n",
    "# parameters for poly with degree 2 kernel\n",
    "parameters = {'C': [1, 10, 100],'gamma':[0.01,0.1,1.]}\n",
    "\n",
    "#run SVM with poly of degree 2 kernel\n",
    "poly2_SVM = SVC(kernel='poly',degree=2)\n",
    "\n",
    "# ADD CODE: DO THE SAME AS ABOVE FOR POLYNOMIAL KERNEL WITH DEGREE=2\n",
    "grid_search = GridSearchCV(poly2_SVM, parameters, cv=nfolds, return_train_score=True)\n",
    "grid_search.fit(X_train, y_train) # ADD CODE\n",
    "\n",
    "print ('\\nRESULTS FOR POLY DEGREE=2 KERNEL\\n')\n",
    "\n",
    "print(\"Best parameters set found: {}\".format(grid_search.best_params_)) \n",
    "\n",
    "print(\"Score with best parameters: {}\".format(grid_search.best_score_)) \n",
    "\n",
    "print(\"\\nAll scores on the grid:\\n\")\n",
    "print(pd.DataFrame(grid_search.cv_results_))\n",
    "\n",
    "# parameters for rbf SVM\n",
    "parameters = {'C': [1, 10, 100],'gamma':[0.01,0.1,1.]}\n",
    "\n",
    "#run SVM with rbf kernel\n",
    "rbf_SVM = SVC(kernel='rbf')\n",
    "\n",
    "# ADD CODE: DO THE SAME AS ABOVE FOR RBF KERNEL\n",
    "grid_search = GridSearchCV(rbf_SVM, parameters, cv=nfolds, return_train_score=True)\n",
    "grid_search.fit(X_train, y_train) \n",
    "\n",
    "print ('\\nRESULTS FOR rbf KERNEL\\n')\n",
    "\n",
    "print(\"Best parameters set found: {}\".format(grid_search.best_params_)) \n",
    "\n",
    "print(\"Score with best parameters: {}\".format(grid_search.best_score_)) \n",
    "\n",
    "print(\"\\nAll scores on the grid:\\n\")\n",
    "print(pd.DataFrame(grid_search.cv_results_))"
   ]
  },
  {
   "cell_type": "markdown",
   "metadata": {},
   "source": [
    "## TO DO 2\n",
    "For the \"best\" SVM kernel and choice of parameters from above, train the model on the entire training set and measure the training error. Also make predictions on the test set and measure the test error. Print the training and the test error."
   ]
  },
  {
   "cell_type": "code",
   "execution_count": 8,
   "metadata": {},
   "outputs": [
    {
     "name": "stdout",
     "output_type": "stream",
     "text": [
      "Best SVM training error: 0.000000\n",
      "Best SVM test error: 0.109655\n"
     ]
    }
   ],
   "source": [
    "#get training and test error for the best SVM model from CV\n",
    "nfolds = 5\n",
    "parameters = {'C': [1, 10, 100],'gamma':[0.01,0.1,1.]}\n",
    "\n",
    "# best model rbf\n",
    "rbf_SVM = SVC(kernel='rbf')\n",
    "best_SVM = GridSearchCV(rbf_SVM, parameters, cv=nfolds)\n",
    "\n",
    "# fit the model on the entire training set\n",
    "best_SVM.fit(X_train, y_train) \n",
    "\n",
    "#get the training and test error\n",
    "training_error = 1. - best_SVM.score(X_train,y_train)\n",
    "test_error = 1. - best_SVM.score(X_test,y_test)\n",
    "\n",
    "print (\"Best SVM training error: %f\" % training_error)\n",
    "print (\"Best SVM test error: %f\" % test_error)"
   ]
  },
  {
   "cell_type": "markdown",
   "metadata": {},
   "source": [
    "## Use logistic regression for comparison\n",
    "\n",
    "## TO DO 3\n",
    "\n",
    "Just for comparison let's also use logistic regression, first default values of the parameter for regularization and then with cross-validation to fix the value of the parameter. For cross validation, use 5-fold cross validation and the default values of the regularization parameters for function the function linear_model.LogisticRegressionCV(...)"
   ]
  },
  {
   "cell_type": "code",
   "execution_count": 9,
   "metadata": {},
   "outputs": [
    {
     "name": "stdout",
     "output_type": "stream",
     "text": [
      "Best logistic regression training error: 0.002000\n",
      "Best logistic regression test error: 0.157396\n",
      "Best logistic regression training error: 0.002000\n",
      "Best logistic regression test error: 0.169727\n"
     ]
    }
   ],
   "source": [
    "from sklearn import linear_model\n",
    "\n",
    "lr = linear_model.LogisticRegression()\n",
    "# fit the model on the training data\n",
    "lr.fit(X_train,y_train) \n",
    "\n",
    "#compute training and test error for model above\n",
    "training_error = 1. - lr.score(X_train,y_train) \n",
    "test_error = 1. - lr.score(X_test,y_test) \n",
    "\n",
    "print (\"Best logistic regression training error: %f\" % training_error)\n",
    "print (\"Best logistic regression test error: %f\" % test_error)\n",
    "\n",
    "#logistic regression with 5-fold CV: you can use use linear_model.LogisticRegressionCV\n",
    "# use 5-fold CV to find the best choice of the parameter, than train\n",
    "# the model on the entire training set\n",
    "lr_cv = linear_model.LogisticRegressionCV(cv=nfolds) \n",
    "lr_cv.fit(X_train,y_train)\n",
    "\n",
    "training_error_cv = 1. - lr_cv.score(X_train,y_train) \n",
    "test_error_cv = 1. - lr_cv.score(X_test,y_test) \n",
    "\n",
    "print (\"Best logistic regression training error: %f\" % training_error_cv)\n",
    "print (\"Best logistic regression test error: %f\" % test_error_cv)"
   ]
  },
  {
   "cell_type": "markdown",
   "metadata": {},
   "source": [
    "## TO DO 4 \n",
    "Compare and comment the results from SVM and logistic regression.\n",
    "\n",
    "## Answer:\n",
    "\n",
    "Based on the results, SVM gets an higher score and therefore a lower test error than logistic regression. This is due to the fact that SVM works even if data are not lineraly seperable, using the right kernel transformation, while LR doesn' t."
   ]
  },
  {
   "cell_type": "markdown",
   "metadata": {},
   "source": [
    "## TO DO 5\n",
    "Write the code that finds and plot a digit that is missclassified by logistic regression (optimized for the regularization parameter) and correctly classified by the \"best\" SVM."
   ]
  },
  {
   "cell_type": "code",
   "execution_count": 13,
   "metadata": {},
   "outputs": [
    {
     "name": "stdout",
     "output_type": "stream",
     "text": [
      "INPUT:\n"
     ]
    },
    {
     "data": {
      "image/png": "[encoded data removed]",
      "text/plain": [
       "<Figure size 432x288 with 1 Axes>"
      ]
     },
     "metadata": {
      "needs_background": "light"
     },
     "output_type": "display_data"
    },
    {
     "name": "stdout",
     "output_type": "stream",
     "text": [
      "LABEL: 8\n",
      "LR predict:  9.0\n",
      "SVM predict:  8.0\n"
     ]
    }
   ],
   "source": [
    "# ADD CODE\n",
    "Y_predicted_lr = lr_cv.predict(X_test)\n",
    "Y_predicted_svm = best_SVM.predict(X_test)\n",
    "for i,x in enumerate(y_test):\n",
    "    if((Y_predicted_lr[i] != x) and (Y_predicted_svm[i] == x)):\n",
    "        plot_digit(X_test,y_test,i)\n",
    "        print(\"LR predict: \",Y_predicted_lr[i])\n",
    "        print(\"SVM predict: \",Y_predicted_svm[i])\n",
    "        break\n"
   ]
  },
  {
   "cell_type": "markdown",
   "metadata": {},
   "source": [
    "## More data\n",
    "Now let's do the same but using 1000 data points for training. \n",
    "\n",
    "## TO DO 6\n",
    "Repeat the entire analysis above using 1000 samples. Of course you can copy the code from above."
   ]
  },
  {
   "cell_type": "code",
   "execution_count": 14,
   "metadata": {},
   "outputs": [
    {
     "name": "stdout",
     "output_type": "stream",
     "text": [
      "Labels and frequencies in training dataset: \n",
      "INPUT:\n"
     ]
    },
    {
     "data": {
      "image/png": "[encoded data removed]",
      "text/plain": [
       "<Figure size 432x288 with 1 Axes>"
      ]
     },
     "metadata": {
      "needs_background": "light"
     },
     "output_type": "display_data"
    },
    {
     "name": "stdout",
     "output_type": "stream",
     "text": [
      "LABEL: 1\n",
      "INPUT:\n"
     ]
    },
    {
     "data": {
      "image/png": "[encoded data removed]",
      "text/plain": [
       "<Figure size 432x288 with 1 Axes>"
      ]
     },
     "metadata": {
      "needs_background": "light"
     },
     "output_type": "display_data"
    },
    {
     "name": "stdout",
     "output_type": "stream",
     "text": [
      "LABEL: 2\n",
      "\n",
      "---------------------------\n",
      "\n",
      "RESULTS FOR LINEAR KERNEL\n",
      "\n",
      "Best parameters set found: {'C': 1}\n",
      "Score with best parameters: 0.878\n",
      "\n",
      "All scores on the grid:\n",
      "\n",
      "   mean_fit_time  std_fit_time  mean_score_time  std_score_time param_C  \\\n",
      "0        0.31743      0.013844         0.098279        0.003185       1   \n",
      "1        0.30523      0.003406         0.095867        0.002474      10   \n",
      "2        0.31723      0.017087         0.100280        0.003865     100   \n",
      "\n",
      "       params  split0_test_score  split1_test_score  split2_test_score  \\\n",
      "0    {'C': 1}           0.898058           0.860697              0.845   \n",
      "1   {'C': 10}           0.898058           0.860697              0.845   \n",
      "2  {'C': 100}           0.898058           0.860697              0.845   \n",
      "\n",
      "   split3_test_score       ...         mean_test_score  std_test_score  \\\n",
      "0           0.857868       ...                   0.878        0.030692   \n",
      "1           0.857868       ...                   0.878        0.030692   \n",
      "2           0.857868       ...                   0.878        0.030692   \n",
      "\n",
      "   rank_test_score  split0_train_score  split1_train_score  \\\n",
      "0                1                 1.0                 1.0   \n",
      "1                1                 1.0                 1.0   \n",
      "2                1                 1.0                 1.0   \n",
      "\n",
      "   split2_train_score  split3_train_score  split4_train_score  \\\n",
      "0                 1.0                 1.0                 1.0   \n",
      "1                 1.0                 1.0                 1.0   \n",
      "2                 1.0                 1.0                 1.0   \n",
      "\n",
      "   mean_train_score  std_train_score  \n",
      "0               1.0              0.0  \n",
      "1               1.0              0.0  \n",
      "2               1.0              0.0  \n",
      "\n",
      "[3 rows x 21 columns]\n",
      "\n",
      "RESULTS FOR POLY DEGREE=2 KERNEL\n",
      "\n",
      "Best parameters set found: {'C': 10, 'gamma': 0.01}\n",
      "Score with best parameters: 0.882\n",
      "\n",
      "All scores on the grid:\n",
      "\n",
      "   mean_fit_time  std_fit_time  mean_score_time  std_score_time param_C  \\\n",
      "0       0.499160      0.012772         0.117083        0.007294       1   \n",
      "1       0.406496      0.020589         0.100880        0.004961       1   \n",
      "2       0.433515      0.020100         0.105867        0.007419       1   \n",
      "3       0.426106      0.040425         0.106883        0.006174      10   \n",
      "4       0.416903      0.021953         0.101672        0.006979      10   \n",
      "5       0.400892      0.012873         0.095072        0.003165      10   \n",
      "6       0.413702      0.016531         0.102473        0.009083     100   \n",
      "7       0.400492      0.011262         0.095868        0.002317     100   \n",
      "8       0.407297      0.013931         0.097866        0.002784     100   \n",
      "\n",
      "  param_gamma                     params  split0_test_score  \\\n",
      "0        0.01    {'C': 1, 'gamma': 0.01}           0.893204   \n",
      "1         0.1     {'C': 1, 'gamma': 0.1}           0.902913   \n",
      "2           1     {'C': 1, 'gamma': 1.0}           0.902913   \n",
      "3        0.01   {'C': 10, 'gamma': 0.01}           0.898058   \n",
      "4         0.1    {'C': 10, 'gamma': 0.1}           0.902913   \n",
      "5           1    {'C': 10, 'gamma': 1.0}           0.902913   \n",
      "6        0.01  {'C': 100, 'gamma': 0.01}           0.902913   \n",
      "7         0.1   {'C': 100, 'gamma': 0.1}           0.902913   \n",
      "8           1   {'C': 100, 'gamma': 1.0}           0.902913   \n",
      "\n",
      "   split1_test_score  split2_test_score       ...         mean_test_score  \\\n",
      "0           0.840796              0.835       ...                   0.865   \n",
      "1           0.875622              0.860       ...                   0.881   \n",
      "2           0.875622              0.860       ...                   0.881   \n",
      "3           0.875622              0.865       ...                   0.882   \n",
      "4           0.875622              0.860       ...                   0.881   \n",
      "5           0.875622              0.860       ...                   0.881   \n",
      "6           0.875622              0.860       ...                   0.881   \n",
      "7           0.875622              0.860       ...                   0.881   \n",
      "8           0.875622              0.860       ...                   0.881   \n",
      "\n",
      "   std_test_score  rank_test_score  split0_train_score  split1_train_score  \\\n",
      "0        0.031886                9             0.95466            0.954944   \n",
      "1        0.026170                2             1.00000            1.000000   \n",
      "2        0.026170                2             1.00000            1.000000   \n",
      "3        0.026224                1             1.00000            1.000000   \n",
      "4        0.026170                2             1.00000            1.000000   \n",
      "5        0.026170                2             1.00000            1.000000   \n",
      "6        0.026170                2             1.00000            1.000000   \n",
      "7        0.026170                2             1.00000            1.000000   \n",
      "8        0.026170                2             1.00000            1.000000   \n",
      "\n",
      "   split2_train_score  split3_train_score  split4_train_score  \\\n",
      "0               0.955            0.950187             0.95398   \n",
      "1               1.000            1.000000             1.00000   \n",
      "2               1.000            1.000000             1.00000   \n",
      "3               1.000            1.000000             1.00000   \n",
      "4               1.000            1.000000             1.00000   \n",
      "5               1.000            1.000000             1.00000   \n",
      "6               1.000            1.000000             1.00000   \n",
      "7               1.000            1.000000             1.00000   \n",
      "8               1.000            1.000000             1.00000   \n",
      "\n",
      "   mean_train_score  std_train_score  \n",
      "0          0.953754          0.00182  \n",
      "1          1.000000          0.00000  \n",
      "2          1.000000          0.00000  \n",
      "3          1.000000          0.00000  \n",
      "4          1.000000          0.00000  \n",
      "5          1.000000          0.00000  \n",
      "6          1.000000          0.00000  \n",
      "7          1.000000          0.00000  \n",
      "8          1.000000          0.00000  \n",
      "\n",
      "[9 rows x 22 columns]\n",
      "\n",
      "RESULTS FOR rbf KERNEL\n",
      "\n",
      "Best parameters set found: {'C': 10, 'gamma': 0.01}\n",
      "Score with best parameters: 0.896\n",
      "\n",
      "All scores on the grid:\n",
      "\n",
      "   mean_fit_time  std_fit_time  mean_score_time  std_score_time param_C  \\\n",
      "0       0.548585      0.027278         0.133100        0.008906       1   \n",
      "1       1.119198      0.008460         0.156523        0.003070       1   \n",
      "2       1.210266      0.038091         0.160715        0.002061       1   \n",
      "3       0.525385      0.016062         0.123483        0.002066      10   \n",
      "4       1.137475      0.038757         0.154915        0.001730      10   \n",
      "5       1.236489      0.016730         0.161720        0.004223      10   \n",
      "6       0.528375      0.018182         0.125093        0.006991     100   \n",
      "7       1.136423      0.016280         0.157312        0.001945     100   \n",
      "8       1.282517      0.059091         0.170117        0.013063     100   \n",
      "\n",
      "  param_gamma                     params  split0_test_score  \\\n",
      "0        0.01    {'C': 1, 'gamma': 0.01}           0.907767   \n",
      "1         0.1     {'C': 1, 'gamma': 0.1}           0.587379   \n",
      "2           1     {'C': 1, 'gamma': 1.0}           0.126214   \n",
      "3        0.01   {'C': 10, 'gamma': 0.01}           0.917476   \n",
      "4         0.1    {'C': 10, 'gamma': 0.1}           0.621359   \n",
      "5           1    {'C': 10, 'gamma': 1.0}           0.126214   \n",
      "6        0.01  {'C': 100, 'gamma': 0.01}           0.917476   \n",
      "7         0.1   {'C': 100, 'gamma': 0.1}           0.621359   \n",
      "8           1   {'C': 100, 'gamma': 1.0}           0.126214   \n",
      "\n",
      "   split1_test_score  split2_test_score       ...         mean_test_score  \\\n",
      "0           0.885572              0.845       ...                   0.883   \n",
      "1           0.482587              0.505       ...                   0.525   \n",
      "2           0.139303              0.140       ...                   0.133   \n",
      "3           0.890547              0.870       ...                   0.896   \n",
      "4           0.522388              0.550       ...                   0.567   \n",
      "5           0.154229              0.145       ...                   0.140   \n",
      "6           0.890547              0.870       ...                   0.896   \n",
      "7           0.522388              0.550       ...                   0.567   \n",
      "8           0.154229              0.145       ...                   0.140   \n",
      "\n",
      "   std_test_score  rank_test_score  split0_train_score  split1_train_score  \\\n",
      "0        0.035223                3            0.972292            0.966208   \n",
      "1        0.035272                6            1.000000            1.000000   \n",
      "2        0.005770                9            1.000000            1.000000   \n",
      "3        0.033972                1            1.000000            1.000000   \n",
      "4        0.034792                4            1.000000            1.000000   \n",
      "5        0.009814                7            1.000000            1.000000   \n",
      "6        0.033972                1            1.000000            1.000000   \n",
      "7        0.034792                4            1.000000            1.000000   \n",
      "8        0.009814                7            1.000000            1.000000   \n",
      "\n",
      "   split2_train_score  split3_train_score  split4_train_score  \\\n",
      "0             0.96875            0.968867            0.960199   \n",
      "1             1.00000            1.000000            1.000000   \n",
      "2             1.00000            1.000000            1.000000   \n",
      "3             1.00000            1.000000            1.000000   \n",
      "4             1.00000            1.000000            1.000000   \n",
      "5             1.00000            1.000000            1.000000   \n",
      "6             1.00000            1.000000            1.000000   \n",
      "7             1.00000            1.000000            1.000000   \n",
      "8             1.00000            1.000000            1.000000   \n",
      "\n",
      "   mean_train_score  std_train_score  \n",
      "0          0.967263         0.004027  \n",
      "1          1.000000         0.000000  \n",
      "2          1.000000         0.000000  \n",
      "3          1.000000         0.000000  \n",
      "4          1.000000         0.000000  \n",
      "5          1.000000         0.000000  \n",
      "6          1.000000         0.000000  \n",
      "7          1.000000         0.000000  \n",
      "8          1.000000         0.000000  \n",
      "\n",
      "[9 rows x 22 columns]\n",
      "\n",
      "---------------------------\n",
      "\n"
     ]
    },
    {
     "name": "stdout",
     "output_type": "stream",
     "text": [
      "Best SVM training error: 0.000000\n",
      "Best SVM test error: 0.083797\n",
      "\n",
      "---------------------------\n",
      "\n",
      "Best logistic regression training error: 0.004000\n",
      "Best logistic regression test error: 0.142522\n",
      "Best logistic regression training error: 0.008000\n",
      "Best logistic regression test error: 0.145754\n",
      "\n",
      "---------------------------\n",
      "\n",
      "INPUT:\n"
     ]
    },
    {
     "data": {
      "image/png": "[encoded data removed]",
      "text/plain": [
       "<Figure size 432x288 with 1 Axes>"
      ]
     },
     "metadata": {
      "needs_background": "light"
     },
     "output_type": "display_data"
    },
    {
     "name": "stdout",
     "output_type": "stream",
     "text": [
      "LABEL: 4\n",
      "LR predict:  1.0\n",
      "SVM predict:  4.0\n"
     ]
    }
   ],
   "source": [
    "permutation = np.random.permutation(X.shape[0])\n",
    "\n",
    "X = X[permutation]\n",
    "y = y[permutation]\n",
    "\n",
    "m_training = 1000\n",
    "\n",
    "X_train, X_test = X[:m_training], X[m_training:]\n",
    "y_train, y_test = y[:m_training], y[m_training:]\n",
    "\n",
    "print(\"Labels and frequencies in training dataset: \")\n",
    "np.unique(y_train, return_counts = True)\n",
    "\n",
    "\n",
    "# let's try the plotting function\n",
    "plot_digit(X_train,y_train,100)\n",
    "plot_digit(X_test,y_test,40000)\n",
    "\n",
    "\n",
    "print(\"\\n---------------------------\\n\")\n",
    "\n",
    "\n",
    "# parameters for linear SVM\n",
    "parameters = {'C': [1, 10, 100]}\n",
    "nfolds = 5\n",
    "\n",
    "#run linear SVM\n",
    "linear_SVM = SVC(kernel='linear')\n",
    "\n",
    "#find best model uusing 5-fold CV \n",
    "#and train it using all the training data\n",
    "grid_search = GridSearchCV(linear_SVM, parameters, cv=nfolds, return_train_score=True)\n",
    "grid_search.fit(X_train, y_train) \n",
    "\n",
    "print ('RESULTS FOR LINEAR KERNEL\\n')\n",
    "\n",
    "print(\"Best parameters set found: {}\".format(grid_search.best_params_)) \n",
    "\n",
    "print(\"Score with best parameters: {}\".format(grid_search.best_score_)) \n",
    "\n",
    "print(\"\\nAll scores on the grid:\\n\")\n",
    "print(pd.DataFrame(grid_search.cv_results_)) \n",
    "\n",
    "# parameters for poly with degree 2 kernel\n",
    "parameters = {'C': [1, 10, 100],'gamma':[0.01,0.1,1.]}\n",
    "\n",
    "#run SVM with poly of degree 2 kernel\n",
    "poly2_SVM = SVC(kernel='poly',degree=2)\n",
    "\n",
    "# ADD CODE: DO THE SAME AS ABOVE FOR POLYNOMIAL KERNEL WITH DEGREE=2\n",
    "grid_search = GridSearchCV(poly2_SVM, parameters, cv=nfolds, return_train_score=True)\n",
    "grid_search.fit(X_train, y_train) # ADD CODE\n",
    "\n",
    "print ('\\nRESULTS FOR POLY DEGREE=2 KERNEL\\n')\n",
    "\n",
    "print(\"Best parameters set found: {}\".format(grid_search.best_params_)) \n",
    "\n",
    "print(\"Score with best parameters: {}\".format(grid_search.best_score_)) \n",
    "\n",
    "print(\"\\nAll scores on the grid:\\n\")\n",
    "print(pd.DataFrame(grid_search.cv_results_))\n",
    "\n",
    "# parameters for rbf SVM\n",
    "parameters = {'C': [1, 10, 100],'gamma':[0.01,0.1,1.]}\n",
    "\n",
    "#run SVM with rbf kernel\n",
    "rbf_SVM = SVC(kernel='rbf')\n",
    "\n",
    "# ADD CODE: DO THE SAME AS ABOVE FOR RBF KERNEL\n",
    "grid_search = GridSearchCV(rbf_SVM, parameters, cv=nfolds, return_train_score=True)\n",
    "grid_search.fit(X_train, y_train) \n",
    "\n",
    "print ('\\nRESULTS FOR rbf KERNEL\\n')\n",
    "\n",
    "print(\"Best parameters set found: {}\".format(grid_search.best_params_)) \n",
    "\n",
    "print(\"Score with best parameters: {}\".format(grid_search.best_score_)) \n",
    "\n",
    "print(\"\\nAll scores on the grid:\\n\")\n",
    "print(pd.DataFrame(grid_search.cv_results_))\n",
    "\n",
    "\n",
    "print(\"\\n---------------------------\\n\")\n",
    "\n",
    "\n",
    "#get training and test error for the best SVM model from CV\n",
    "parameters = {'C': [1, 10, 100],'gamma':[0.01,0.1,1.]}\n",
    "nfolds = 5\n",
    "best_SVM = GridSearchCV(SVC(kernel='rbf'), parameters, cv=nfolds) \n",
    "\n",
    "# fit the model on the entire training set\n",
    "# ADD CODE\n",
    "best_SVM.fit(X_train, y_train)\n",
    "\n",
    "#get the training and test error\n",
    "training_error = 1. - best_SVM.score(X_train,y_train)\n",
    "test_error = 1. - best_SVM.score(X_test,y_test)\n",
    "\n",
    "print (\"Best SVM training error: %f\" % training_error)\n",
    "print (\"Best SVM test error: %f\" % test_error)\n",
    "\n",
    "\n",
    "print(\"\\n---------------------------\\n\")\n",
    "\n",
    "\n",
    "lr = linear_model.LogisticRegression()\n",
    "# fit the model on the training data\n",
    "lr.fit(X_train,y_train) \n",
    "\n",
    "#compute training and test error for model above\n",
    "training_error = 1. - lr.score(X_train,y_train) \n",
    "test_error = 1. - lr.score(X_test,y_test) \n",
    "\n",
    "print (\"Best logistic regression training error: %f\" % training_error)\n",
    "print (\"Best logistic regression test error: %f\" % test_error)\n",
    "\n",
    "#logistic regression with 5-fold CV: you can use use linear_model.LogisticRegressionCV\n",
    "# use 5-fold CV to find the best choice of the parameter, than train\n",
    "# the model on the entire training set\n",
    "lr_cv = linear_model.LogisticRegressionCV(cv=nfolds) \n",
    "lr_cv.fit(X_train,y_train)\n",
    "training_error_cv = 1. - lr_cv.score(X_train,y_train) \n",
    "test_error_cv = 1. - lr_cv.score(X_test,y_test) \n",
    "\n",
    "print (\"Best logistic regression training error: %f\" % training_error_cv)\n",
    "print (\"Best logistic regression test error: %f\" % test_error_cv)\n",
    "\n",
    "\n",
    "print(\"\\n---------------------------\\n\")\n",
    "\n",
    "\n",
    "# ADD CODE\n",
    "Y_predicted_lr = lr_cv.predict(X_test)\n",
    "Y_predicted_svm = best_SVM.predict(X_test)\n",
    "for i,x in enumerate(y_test):\n",
    "    if((Y_predicted_lr[i] != x) and (Y_predicted_svm[i] == x)):\n",
    "        plot_digit(X_test,y_test,i)\n",
    "        print(\"LR predict: \",Y_predicted_lr[i])\n",
    "        print(\"SVM predict: \",Y_predicted_svm[i])\n",
    "        break"
   ]
  },
  {
   "cell_type": "markdown",
   "metadata": {},
   "source": [
    "## TO DO 7\n",
    "Compare and comment on the differences with the results above.\n",
    "\n",
    "### ANSWER: \n",
    "\n",
    "As we can see that if we double the size of the data points we do not see a big improvement in the loss.\n",
    "In this case though with an bigger train test, SVM outperforms logistic regression. So if we have a lot of data and the computation is not too expensive we can definitely use a bigger set."
   ]
  },
  {
   "cell_type": "code",
   "execution_count": null,
   "metadata": {},
   "outputs": [],
   "source": []
  }
 ],
 "metadata": {
  "kernelspec": {
   "display_name": "Python 3",
   "language": "python",
   "name": "python3"
  },
  "language_info": {
   "codemirror_mode": {
    "name": "ipython",
    "version": 3
   },
   "file_extension": ".py",
   "mimetype": "text/x-python",
   "name": "python",
   "nbconvert_exporter": "python",
   "pygments_lexer": "ipython3",
   "version": "3.7.0"
  }
 },
 "nbformat": 4,
 "nbformat_minor": 2
}
